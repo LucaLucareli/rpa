{
 "cells": [
  {
   "cell_type": "code",
   "execution_count": 86,
   "metadata": {},
   "outputs": [],
   "source": [
    "from selenium import webdriver\n",
    "from datetime import datetime\n",
    "from selenium.webdriver.common.by import By\n",
    "import pandas as pd\n",
    "from selenium.webdriver.chrome.options import Options\n",
    "import os\n",
    "import django\n",
    "from django.conf import settings\n",
    "\n",
    "os.environ.setdefault('DJANGO_SETTINGS_MODULE', 'config.settings') \n",
    "django.setup()\n",
    "\n",
    "from models import CotacaoDolar"
   ]
  },
  {
   "cell_type": "code",
   "execution_count": 87,
   "metadata": {},
   "outputs": [
    {
     "name": "stdout",
     "output_type": "stream",
     "text": [
      "{'horario': [datetime.datetime(2024, 5, 17, 12, 40, 10, 635487)], 'valor_site': [5.116], 'data': ['2024-05-17'], 'hora': ['12:40:10'], 'cotacao_decimal': [5.116]}\n"
     ]
    }
   ],
   "source": [
    "discionario = {\n",
    "    \"horario\": [],\n",
    "    \"valor_site\": [],\n",
    "    \"data\": [],\n",
    "    \"hora\": [],\n",
    "    \"cotacao_decimal\": [],  \n",
    "}\n",
    "\n",
    "chrome_options = Options()\n",
    "chrome_options.add_argument('--headless')  \n",
    "driver = webdriver.Chrome(options=chrome_options) \n",
    "\n",
    "driver.get('https://www.google.com/finance/quote/USD-BRL?sa=X&ved=2ahUKEwjqo6L0hvSEAxXXILkGHXR8D9oQmY0JegQIBhAv')\n",
    "\n",
    "elemento = driver.find_element(By.CLASS_NAME, 'fxKbKc')\n",
    "agora = datetime.now() \n",
    "valor = float(elemento.text.replace(',', '.'))\n",
    "\n",
    "discionario['horario'].append(agora)\n",
    "discionario['valor_site'].append(valor)  \n",
    "discionario['cotacao_decimal'].append(valor)\n",
    "discionario[\"hora\"].append(agora.strftime(\"%H:%M:%S\"))\n",
    "discionario[\"data\"].append(agora.strftime(\"%Y-%m-%d\"))\n",
    "\n",
    "print(discionario)\n",
    "\n",
    "df = pd.DataFrame(discionario)\n",
    "\n",
    "driver.quit()"
   ]
  },
  {
   "cell_type": "code",
   "execution_count": 88,
   "metadata": {},
   "outputs": [],
   "source": [
    "import psycopg2 as pg\n",
    "from psycopg2 import sql, OperationalError\n",
    "\n",
    "try:\n",
    "    conn = pg.connect(\n",
    "        dbname=\"db_cotacoes\",\n",
    "        user=\"postgres\",\n",
    "        password=\"1234\",\n",
    "        host=\"localhost\",\n",
    "        port=\"5432\"\n",
    "    )\n",
    "    \n",
    "    cursor = conn.cursor()\n",
    "    \n",
    "    cursor.execute(\"CALL inserir_valores(%s, %s, %s)\", \n",
    "                   (agora.strftime(\"%Y-%m-%d\"), agora.strftime(\"%H:%M:%S\"), valor))\n",
    "    \n",
    "    conn.commit()\n",
    "\n",
    "except OperationalError as e:\n",
    "    print(f\"Error: {e}\")\n",
    "finally:\n",
    "    if cursor:\n",
    "        cursor.close()\n",
    "    if conn:\n",
    "        conn.close()\n"
   ]
  }
 ],
 "metadata": {
  "kernelspec": {
   "display_name": "Python 3",
   "language": "python",
   "name": "python3"
  },
  "language_info": {
   "codemirror_mode": {
    "name": "ipython",
    "version": 3
   },
   "file_extension": ".py",
   "mimetype": "text/x-python",
   "name": "python",
   "nbconvert_exporter": "python",
   "pygments_lexer": "ipython3",
   "version": "3.11.9"
  }
 },
 "nbformat": 4,
 "nbformat_minor": 2
}
